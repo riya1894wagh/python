{
 "cells": [
  {
   "cell_type": "markdown",
   "id": "c22534fc-c9a0-4b95-968d-8a370b82b196",
   "metadata": {},
   "source": [
    "### Q-l. the conventions being followed while declaring a variable."
   ]
  },
  {
   "cell_type": "markdown",
   "id": "00a38a08-194c-47f0-bf2f-120cb5373d90",
   "metadata": {},
   "source": [
    "Ans: \n",
    "* A variable name must only contain alphabets, digits, and underscore.\n",
    "* A variable name must start with an alphabet or an underscore only. It cannot start with a digit.\n",
    "* No whitespace is allowed within the variable name.\n",
    "* A variable name must not be any reserved word or keyword.\n"
   ]
  },
  {
   "cell_type": "markdown",
   "id": "b1a44c28-0812-47ad-9fe0-87da68ffcae8",
   "metadata": {},
   "source": [
    "## Q2. What will happen if we declare a restricted keyword as a variable?"
   ]
  },
  {
   "cell_type": "markdown",
   "id": "0da0c4f0-d5c2-4348-9690-921a271a88d9",
   "metadata": {},
   "source": [
    "Ans:\n",
    "\n",
    "    if we declare a restricted kreyworld as a variable then it will thow a error.\n",
    "\n",
    "* Python 3 has 33 keywords while Python 2 has 30."
   ]
  },
  {
   "cell_type": "code",
   "execution_count": 1,
   "id": "c926fe1c-63ce-4509-a885-a3865bbea73c",
   "metadata": {},
   "outputs": [
    {
     "data": {
      "text/plain": [
       "['False',\n",
       " 'None',\n",
       " 'True',\n",
       " 'and',\n",
       " 'as',\n",
       " 'assert',\n",
       " 'async',\n",
       " 'await',\n",
       " 'break',\n",
       " 'class',\n",
       " 'continue',\n",
       " 'def',\n",
       " 'del',\n",
       " 'elif',\n",
       " 'else',\n",
       " 'except',\n",
       " 'finally',\n",
       " 'for',\n",
       " 'from',\n",
       " 'global',\n",
       " 'if',\n",
       " 'import',\n",
       " 'in',\n",
       " 'is',\n",
       " 'lambda',\n",
       " 'nonlocal',\n",
       " 'not',\n",
       " 'or',\n",
       " 'pass',\n",
       " 'raise',\n",
       " 'return',\n",
       " 'try',\n",
       " 'while',\n",
       " 'with',\n",
       " 'yield']"
      ]
     },
     "execution_count": 1,
     "metadata": {},
     "output_type": "execute_result"
    }
   ],
   "source": [
    "import keyword\n",
    "keyword.kwlist"
   ]
  },
  {
   "cell_type": "markdown",
   "id": "1cc6fd38-a4bb-4475-9428-a76843d425a1",
   "metadata": {},
   "source": [
    "## Q3. Can we actually declare a string as a variable name?"
   ]
  },
  {
   "cell_type": "markdown",
   "id": "9663126a-0376-4937-91f6-6fc4fa805820",
   "metadata": {},
   "source": [
    "Ans: \n",
    "    \n",
    "    yes we can declare string as a variable name."
   ]
  },
  {
   "cell_type": "code",
   "execution_count": 5,
   "id": "0ca80f33-a6b4-4ac6-acaf-121146e43d3b",
   "metadata": {},
   "outputs": [
    {
     "name": "stdout",
     "output_type": "stream",
     "text": [
      "<class 'str'>\n",
      "PWskills\n",
      "<class 'str'>\n",
      "pwskills\n"
     ]
    }
   ],
   "source": [
    "variable = \"PWskills\"\n",
    "print(type(variable))\n",
    "print(variable)\n",
    "a=\"pwskills\"\n",
    "print(type(a))\n",
    "print(a)"
   ]
  },
  {
   "cell_type": "markdown",
   "id": "545ceb8c-1518-41e5-a1d3-d6e5fd3d848f",
   "metadata": {},
   "source": [
    "## Q4. Is it possible for us to declare “_” as a variable? If so, then write an example of it."
   ]
  },
  {
   "cell_type": "markdown",
   "id": "b38e146f-850f-4e90-9a85-953625b39d08",
   "metadata": {},
   "source": [
    "Ans : \n",
    "\n",
    "yes, its possible."
   ]
  },
  {
   "cell_type": "code",
   "execution_count": 8,
   "id": "d7ab8267-5996-4110-b002-dc2a7eb2a50f",
   "metadata": {},
   "outputs": [
    {
     "name": "stdout",
     "output_type": "stream",
     "text": [
      "alpha\n"
     ]
    }
   ],
   "source": [
    " _aplha = \"alpha\"\n",
    "print(_aplha)"
   ]
  },
  {
   "cell_type": "markdown",
   "id": "30cf0520-f6cf-4263-936b-4e26ef1e8a69",
   "metadata": {},
   "source": [
    "## Q5. Using an example, explain how the variables in python are dynamic in nature."
   ]
  },
  {
   "cell_type": "markdown",
   "id": "a076ee25-5f9f-4efa-8256-e00c030923e7",
   "metadata": {},
   "source": [
    "Ans: \n",
    "    "
   ]
  },
  {
   "cell_type": "code",
   "execution_count": 11,
   "id": "154bc58b-21aa-42ab-b9bc-358bf8e59756",
   "metadata": {},
   "outputs": [
    {
     "name": "stdout",
     "output_type": "stream",
     "text": [
      "<class 'int'>\n",
      "10\n",
      "<class 'float'>\n",
      "100.12\n",
      "<class 'str'>\n",
      "pwskilla\n",
      "<class 'list'>\n",
      "[10, 20, 30]\n",
      "<class 'set'>\n",
      "{10, 20, 30}\n",
      "<class 'tuple'>\n",
      "(10, 20, 30)\n"
     ]
    }
   ],
   "source": [
    "A = 10\n",
    "print(type(A))\n",
    "print(A)\n",
    "A = 100.12\n",
    "print(type(A))\n",
    "print(A)\n",
    "A = \"pwskilla\"\n",
    "print(type(A))\n",
    "print(A)\n",
    "A = [10,20,30]\n",
    "print(type(A))\n",
    "print(A)\n",
    "A = {10,20,30}\n",
    "print(type(A))\n",
    "print(A)\n",
    "A = (10,20,30)\n",
    "print(type(A))\n",
    "print(A)"
   ]
  },
  {
   "cell_type": "code",
   "execution_count": null,
   "id": "09c206e2-4343-454b-99ec-07e0797891df",
   "metadata": {},
   "outputs": [],
   "source": []
  }
 ],
 "metadata": {
  "kernelspec": {
   "display_name": "Python 3 (ipykernel)",
   "language": "python",
   "name": "python3"
  },
  "language_info": {
   "codemirror_mode": {
    "name": "ipython",
    "version": 3
   },
   "file_extension": ".py",
   "mimetype": "text/x-python",
   "name": "python",
   "nbconvert_exporter": "python",
   "pygments_lexer": "ipython3",
   "version": "3.10.8"
  }
 },
 "nbformat": 4,
 "nbformat_minor": 5
}
